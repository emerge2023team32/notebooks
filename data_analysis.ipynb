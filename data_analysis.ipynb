{
 "cells": [
  {
   "attachments": {},
   "cell_type": "markdown",
   "metadata": {},
   "source": [
    "Miami 311 service call dataset taken from here https://datahub-miamigis.opendata.arcgis.com/datasets/7cc10915ede14bb58be312413842a4ce_0/explore"
   ]
  },
  {
   "cell_type": "code",
   "execution_count": 1,
   "metadata": {},
   "outputs": [
    {
     "name": "stdout",
     "output_type": "stream",
     "text": [
      "(108547, 29)\n",
      "Index(['X', 'Y', 'ticket_id', 'issue_type', 'issue_Description', 'case_owner',\n",
      "       'street_address', 'city', 'state', 'zip_code', 'District',\n",
      "       'created_year_month', 'ticket_created_date_time',\n",
      "       'ticket_last_updated_date_time', 'ticket_closed_date_time',\n",
      "       'ticket_status', 'x_coordinate', 'y_coordinate', 'latitude',\n",
      "       'longitude', 'coordinates', 'method_received', 'goal_days',\n",
      "       'actual_completed_days', 'Property_Folio_Number', 'Unit_Number',\n",
      "       'Ticket_Priority', 'OverDueFlag', 'ObjectId'],\n",
      "      dtype='object')\n",
      "0    2020/10/01 06:48:47.606+00\n",
      "Name: ticket_created_date_time, dtype: object\n",
      "108546    2023/04/11 17:52:42.039+00\n",
      "Name: ticket_created_date_time, dtype: object\n"
     ]
    }
   ],
   "source": [
    "import pandas as pd\n",
    "\n",
    "df = pd.read_csv('./City_of_Miami_311_Service_Requests_Since_2015.csv')\n",
    "print(df.shape)\n",
    "print(df.columns)\n",
    "print(df['ticket_created_date_time'].head(1))\n",
    "print(df['ticket_created_date_time'].tail(1))"
   ]
  },
  {
   "attachments": {},
   "cell_type": "markdown",
   "metadata": {},
   "source": [
    "Number of unique issues:"
   ]
  },
  {
   "cell_type": "code",
   "execution_count": 2,
   "metadata": {},
   "outputs": [
    {
     "data": {
      "text/plain": [
       "issue_Description\n",
       "GARBAGE CONTAINER DAMAGED                                     13830\n",
       "ILLEGAL DUMPING / LITTER                                       8566\n",
       "ZONING CALL BACK REQUEST                                       6183\n",
       "RECYCLING MISSED                                               5961\n",
       "GARBAGE - MISSED                                               5763\n",
       "CODE ENFORCEMENT CU INSPECTION REQUEST                         5531\n",
       "FIRE CU INSPECTION REQUEST                                     5349\n",
       "POTHOLE                                                        5277\n",
       "SOLID WASTE MISCELLANEOUS REQUESTS                             5052\n",
       "STORM FLOOD/ DRAINAGE                                          4490\n",
       "GARBAGE CONTAINER STOLEN                                       4277\n",
       "TREE TRIM AND ROOT PRUNING                                     4016\n",
       "RECYCLING CART DAMAGED                                         3657\n",
       "DEAD ANIMAL PICKUP                                             3036\n",
       "TRASH HOLE                                                     2504\n",
       "BULKY TRASH SPECIAL PICKUP REQUEST TRACKER                     2446\n",
       "BULKY TRASH - MISSED                                           2261\n",
       "OVERGROWN LOT                                                  2068\n",
       "SIDEWALK DAMAGE                                                2020\n",
       "RECYCLING CART STOLEN                                          1388\n",
       "POULTRY (CHICKEN) OR GRAZING ANIMAL                            1011\n",
       "SOLID WASTE RESIDENTIAL NEW SERVICE / ACCOUNT UPDATE            882\n",
       "MIAMI TROLLEY - ON DEMAND TRANSPORTATION SERVICE COMPLAINT      838\n",
       "COM OTHER                                                       723\n",
       "TREE BLOCKING TRAFFIC SIGNAL/LIGHT (STOP SIGN)                  658\n",
       "PARKING - COMMERCIAL VEHICLE ILLEGALLY IN RESIDENTIAL ZONE      627\n",
       "NOISE VIOLATION                                                 616\n",
       "ILLEGAL STORAGE / JUNK IN YARD                                  616\n",
       "CITY SHOPPING CART REMOVAL                                      613\n",
       "ILLEGAL CONSTRUCTION                                            587\n",
       "GRAFFITI                                                        572\n",
       "NO BUSINESS TAX RECEIPT / CERTIFICATE OF USE                    522\n",
       "ABANDONED VEHICLE - PRIVATE                                     496\n",
       "ILLEGAL CONSTRUCTION IN PROGRESS -BUILDING                      480\n",
       "BUILDING DEMOLITIONS AND UNSAFE STRUCTURES                      457\n",
       "SWALE GRADING / DROP OFF REPAIR                                 425\n",
       "TREE DOWN  BLOCKING STREET                                      409\n",
       "BOATS / RV'S / TRAILERS                                         400\n",
       "BUILDING MAINTENANCE INADEQUATE                                 389\n",
       "GARBAGE/TRASH/RECYCLING OUT TO EARLY                            371\n",
       "ILLEGAL UNITS                                                   354\n",
       "MANHOLE / UTILITY COVER                                         319\n",
       "TREE DOWN NOT BLOCKING THE STREET                               259\n",
       "CAVE IN OR SINK HOLE                                            257\n",
       "VACANT / UNSECURED STRUCTURE                                    241\n",
       "TREE STUMP REMOVAL/ GRINDING                                    235\n",
       "CONTAINER VIOLATION - COMMERCIAL / MULTI-FAMILY                 216\n",
       "ROAD DEBRIS BLOCKING TRAFFIC RIGHT OF WAY                       202\n",
       "LANDSCAPING CITY RIGHT OF WAY / MOWING                          181\n",
       "TREE LEANING                                                    142\n",
       "SIGNS WITHOUT PERMIT                                            134\n",
       "TREE REMOVAL WITHOUT PERMIT                                     105\n",
       "ILLEGAL MECHANICAL REPAIRS                                      100\n",
       "BEE AND WASP CONTROL                                             71\n",
       "SQUATTERS                                                        70\n",
       "TREE PEST CONTROL                                                65\n",
       "ILLEGAL COMMERCIAL HAULER                                        42\n",
       "CANAL CLEANING                                                   34\n",
       "BARRICADE ON PUBLIC RIGHT OF WAY REMOVAL                         34\n",
       "STREET CROSSWALK                                                 25\n",
       "PARKING - ON UNIMPROVED SURFACES                                 23\n",
       "HOMELESS ASSISTANCE CALL BACK                                    16\n",
       "TREE BRACING REMOVAL / REPAIR                                    15\n",
       "TREE FELL ON HOUSE                                               14\n",
       "TREE PLANTING TRACKER                                             8\n",
       "BUILDING INSPECTOR COMPLAINT                                      4\n",
       "CABLE TV COMPLAINTS (COMCAST)                                     4\n",
       "CITY GRAFFITI MITIGATION PILOT PROGRAM                            4\n",
       "CITY OF MIAMI RESIDENT ASSISTANCE PROGRAMS                        3\n",
       "CITY TRACKER HOTSPOTS                                             3\n",
       "Name: count, dtype: int64"
      ]
     },
     "execution_count": 2,
     "metadata": {},
     "output_type": "execute_result"
    }
   ],
   "source": [
    "pd.options.display.max_rows = 100\n",
    "df['issue_Description'].value_counts()"
   ]
  },
  {
   "attachments": {},
   "cell_type": "markdown",
   "metadata": {},
   "source": [
    "What part of the dataset is garbage/waste related"
   ]
  },
  {
   "cell_type": "code",
   "execution_count": 3,
   "metadata": {},
   "outputs": [
    {
     "name": "stdout",
     "output_type": "stream",
     "text": [
      "59994 / 108547\n"
     ]
    },
    {
     "data": {
      "text/plain": [
       "issue_Description\n",
       "ZONING CALL BACK REQUEST                                      6183\n",
       "CODE ENFORCEMENT CU INSPECTION REQUEST                        5531\n",
       "FIRE CU INSPECTION REQUEST                                    5349\n",
       "POTHOLE                                                       5277\n",
       "STORM FLOOD/ DRAINAGE                                         4490\n",
       "TREE TRIM AND ROOT PRUNING                                    4016\n",
       "OVERGROWN LOT                                                 2068\n",
       "SIDEWALK DAMAGE                                               2020\n",
       "POULTRY (CHICKEN) OR GRAZING ANIMAL                           1011\n",
       "MIAMI TROLLEY - ON DEMAND TRANSPORTATION SERVICE COMPLAINT     838\n",
       "COM OTHER                                                      723\n",
       "TREE BLOCKING TRAFFIC SIGNAL/LIGHT (STOP SIGN)                 658\n",
       "PARKING - COMMERCIAL VEHICLE ILLEGALLY IN RESIDENTIAL ZONE     627\n",
       "NOISE VIOLATION                                                616\n",
       "ILLEGAL STORAGE / JUNK IN YARD                                 616\n",
       "CITY SHOPPING CART REMOVAL                                     613\n",
       "ILLEGAL CONSTRUCTION                                           587\n",
       "GRAFFITI                                                       572\n",
       "NO BUSINESS TAX RECEIPT / CERTIFICATE OF USE                   522\n",
       "ABANDONED VEHICLE - PRIVATE                                    496\n",
       "ILLEGAL CONSTRUCTION IN PROGRESS -BUILDING                     480\n",
       "BUILDING DEMOLITIONS AND UNSAFE STRUCTURES                     457\n",
       "SWALE GRADING / DROP OFF REPAIR                                425\n",
       "TREE DOWN  BLOCKING STREET                                     409\n",
       "BOATS / RV'S / TRAILERS                                        400\n",
       "BUILDING MAINTENANCE INADEQUATE                                389\n",
       "ILLEGAL UNITS                                                  354\n",
       "MANHOLE / UTILITY COVER                                        319\n",
       "TREE DOWN NOT BLOCKING THE STREET                              259\n",
       "CAVE IN OR SINK HOLE                                           257\n",
       "VACANT / UNSECURED STRUCTURE                                   241\n",
       "TREE STUMP REMOVAL/ GRINDING                                   235\n",
       "CONTAINER VIOLATION - COMMERCIAL / MULTI-FAMILY                216\n",
       "ROAD DEBRIS BLOCKING TRAFFIC RIGHT OF WAY                      202\n",
       "LANDSCAPING CITY RIGHT OF WAY / MOWING                         181\n",
       "TREE LEANING                                                   142\n",
       "SIGNS WITHOUT PERMIT                                           134\n",
       "TREE REMOVAL WITHOUT PERMIT                                    105\n",
       "ILLEGAL MECHANICAL REPAIRS                                     100\n",
       "BEE AND WASP CONTROL                                            71\n",
       "SQUATTERS                                                       70\n",
       "TREE PEST CONTROL                                               65\n",
       "ILLEGAL COMMERCIAL HAULER                                       42\n",
       "CANAL CLEANING                                                  34\n",
       "BARRICADE ON PUBLIC RIGHT OF WAY REMOVAL                        34\n",
       "STREET CROSSWALK                                                25\n",
       "PARKING - ON UNIMPROVED SURFACES                                23\n",
       "HOMELESS ASSISTANCE CALL BACK                                   16\n",
       "TREE BRACING REMOVAL / REPAIR                                   15\n",
       "TREE FELL ON HOUSE                                              14\n",
       "TREE PLANTING TRACKER                                            8\n",
       "BUILDING INSPECTOR COMPLAINT                                     4\n",
       "CABLE TV COMPLAINTS (COMCAST)                                    4\n",
       "CITY GRAFFITI MITIGATION PILOT PROGRAM                           4\n",
       "CITY TRACKER HOTSPOTS                                            3\n",
       "CITY OF MIAMI RESIDENT ASSISTANCE PROGRAMS                       3\n",
       "Name: count, dtype: int64"
      ]
     },
     "execution_count": 3,
     "metadata": {},
     "output_type": "execute_result"
    }
   ],
   "source": [
    "garbage_issues = [\n",
    "    'GARBAGE CONTAINER DAMAGED',\n",
    "    'ILLEGAL DUMPING / LITTER',\n",
    "    'RECYCLING MISSED',\n",
    "    'GARBAGE - MISSED',\n",
    "    'SOLID WASTE MISCELLANEOUS REQUESTS',\n",
    "    'GARBAGE CONTAINER STOLEN',\n",
    "    'RECYCLING CART DAMAGED',\n",
    "    'DEAD ANIMAL PICKUP',\n",
    "    'TRASH HOLE',\n",
    "    'BULKY TRASH SPECIAL PICKUP REQUEST TRACKER',\n",
    "    'BULKY TRASH - MISSED',\n",
    "    'RECYCLING CART STOLEN',\n",
    "    'SOLID WASTE RESIDENTIAL NEW SERVICE / ACCOUNT UPDATE',\n",
    "    'GARBAGE/TRASH/RECYCLING OUT TO EARLY',\n",
    "]\n",
    "\n",
    "df_garbage = df.loc[df['issue_Description'].isin(garbage_issues)]\n",
    "print(sum(df_garbage['issue_Description'].value_counts()), '/', df['issue_Description'].count())\n",
    "\n",
    "df_non_garbage = df.loc[~df['issue_Description'].isin(garbage_issues)]\n",
    "\n",
    "df_non_garbage['issue_Description'].value_counts()\n",
    "\n"
   ]
  },
  {
   "cell_type": "code",
   "execution_count": 4,
   "metadata": {},
   "outputs": [
    {
     "name": "stdout",
     "output_type": "stream",
     "text": [
      "19852 / 108547\n",
      "count       28701\n",
      "unique         47\n",
      "top       POTHOLE\n",
      "freq         5277\n",
      "Name: issue_Description, dtype: object\n"
     ]
    },
    {
     "data": {
      "text/plain": [
       "issue_Description\n",
       "POTHOLE                                                       5277\n",
       "STORM FLOOD/ DRAINAGE                                         4490\n",
       "TREE TRIM AND ROOT PRUNING                                    4016\n",
       "OVERGROWN LOT                                                 2068\n",
       "SIDEWALK DAMAGE                                               2020\n",
       "POULTRY (CHICKEN) OR GRAZING ANIMAL                           1011\n",
       "MIAMI TROLLEY - ON DEMAND TRANSPORTATION SERVICE COMPLAINT     838\n",
       "COM OTHER                                                      723\n",
       "TREE BLOCKING TRAFFIC SIGNAL/LIGHT (STOP SIGN)                 658\n",
       "PARKING - COMMERCIAL VEHICLE ILLEGALLY IN RESIDENTIAL ZONE     627\n",
       "ILLEGAL STORAGE / JUNK IN YARD                                 616\n",
       "NOISE VIOLATION                                                616\n",
       "CITY SHOPPING CART REMOVAL                                     613\n",
       "GRAFFITI                                                       572\n",
       "ABANDONED VEHICLE - PRIVATE                                    496\n",
       "SWALE GRADING / DROP OFF REPAIR                                425\n",
       "TREE DOWN  BLOCKING STREET                                     409\n",
       "BOATS / RV'S / TRAILERS                                        400\n",
       "MANHOLE / UTILITY COVER                                        319\n",
       "TREE DOWN NOT BLOCKING THE STREET                              259\n",
       "CAVE IN OR SINK HOLE                                           257\n",
       "VACANT / UNSECURED STRUCTURE                                   241\n",
       "TREE STUMP REMOVAL/ GRINDING                                   235\n",
       "CONTAINER VIOLATION - COMMERCIAL / MULTI-FAMILY                216\n",
       "ROAD DEBRIS BLOCKING TRAFFIC RIGHT OF WAY                      202\n",
       "LANDSCAPING CITY RIGHT OF WAY / MOWING                         181\n",
       "TREE LEANING                                                   142\n",
       "SIGNS WITHOUT PERMIT                                           134\n",
       "TREE REMOVAL WITHOUT PERMIT                                    105\n",
       "ILLEGAL MECHANICAL REPAIRS                                     100\n",
       "BEE AND WASP CONTROL                                            71\n",
       "SQUATTERS                                                       70\n",
       "TREE PEST CONTROL                                               65\n",
       "ILLEGAL COMMERCIAL HAULER                                       42\n",
       "BARRICADE ON PUBLIC RIGHT OF WAY REMOVAL                        34\n",
       "CANAL CLEANING                                                  34\n",
       "STREET CROSSWALK                                                25\n",
       "PARKING - ON UNIMPROVED SURFACES                                23\n",
       "HOMELESS ASSISTANCE CALL BACK                                   16\n",
       "TREE BRACING REMOVAL / REPAIR                                   15\n",
       "TREE FELL ON HOUSE                                              14\n",
       "TREE PLANTING TRACKER                                            8\n",
       "BUILDING INSPECTOR COMPLAINT                                     4\n",
       "CABLE TV COMPLAINTS (COMCAST)                                    4\n",
       "CITY GRAFFITI MITIGATION PILOT PROGRAM                           4\n",
       "CITY OF MIAMI RESIDENT ASSISTANCE PROGRAMS                       3\n",
       "CITY TRACKER HOTSPOTS                                            3\n",
       "Name: count, dtype: int64"
      ]
     },
     "execution_count": 4,
     "metadata": {},
     "output_type": "execute_result"
    }
   ],
   "source": [
    "admin_issues = [\n",
    "    'ZONING CALL BACK REQUEST',\n",
    "    'CODE ENFORCEMENT CU INSPECTION REQUEST',\n",
    "    'FIRE CU INSPECTION REQUEST',\n",
    "    'ILLEGAL CONSTRUCTION',\n",
    "    'NO BUSINESS TAX RECEIPT / CERTIFICATE OF USE',\n",
    "    'ILLEGAL CONSTRUCTION IN PROGRESS -BUILDING',\n",
    "    'BUILDING DEMOLITIONS AND UNSAFE STRUCTURES',\n",
    "    'BUILDING MAINTENANCE INADEQUATE',\n",
    "    'ILLEGAL UNITS',\n",
    "]\n",
    "\n",
    "df_admin = df_non_garbage.loc[df['issue_Description'].isin(admin_issues)]\n",
    "\n",
    "df_non_admin = df_non_garbage.loc[~df['issue_Description'].isin(admin_issues)]\n",
    "\n",
    "print(sum(df_admin['issue_Description'].value_counts()), '/', df['issue_Description'].count())\n",
    "\n",
    "print(df_non_admin['issue_Description'].describe())\n",
    "\n",
    "df_non_admin['issue_Description'].value_counts()"
   ]
  },
  {
   "attachments": {},
   "cell_type": "markdown",
   "metadata": {},
   "source": [
    "Code owners:"
   ]
  },
  {
   "cell_type": "code",
   "execution_count": 5,
   "metadata": {},
   "outputs": [
    {
     "data": {
      "text/plain": [
       "case_owner\n",
       "Solid Waste                  57748\n",
       "Resilience & Public Works    22498\n",
       "Code Compliance              14392\n",
       "Zoning                        6183\n",
       "Fire-Rescue                   5349\n",
       "NET                           1362\n",
       "Building                       941\n",
       "Police                          70\n",
       "Innovation & Technology          4\n",
       "Name: count, dtype: int64"
      ]
     },
     "execution_count": 5,
     "metadata": {},
     "output_type": "execute_result"
    }
   ],
   "source": [
    "df['case_owner'].value_counts()"
   ]
  },
  {
   "attachments": {},
   "cell_type": "markdown",
   "metadata": {},
   "source": [
    "Resilience & Public Works issues"
   ]
  },
  {
   "cell_type": "code",
   "execution_count": 6,
   "metadata": {},
   "outputs": [
    {
     "data": {
      "text/plain": [
       "issue_Description\n",
       "POTHOLE                                                       5277\n",
       "STORM FLOOD/ DRAINAGE                                         4490\n",
       "TREE TRIM AND ROOT PRUNING                                    4016\n",
       "TRASH HOLE                                                    2504\n",
       "SIDEWALK DAMAGE                                               2020\n",
       "MIAMI TROLLEY - ON DEMAND TRANSPORTATION SERVICE COMPLAINT     838\n",
       "TREE BLOCKING TRAFFIC SIGNAL/LIGHT (STOP SIGN)                 658\n",
       "SWALE GRADING / DROP OFF REPAIR                                425\n",
       "TREE DOWN  BLOCKING STREET                                     409\n",
       "MANHOLE / UTILITY COVER                                        319\n",
       "TREE DOWN NOT BLOCKING THE STREET                              259\n",
       "CAVE IN OR SINK HOLE                                           257\n",
       "TREE STUMP REMOVAL/ GRINDING                                   235\n",
       "ROAD DEBRIS BLOCKING TRAFFIC RIGHT OF WAY                      202\n",
       "LANDSCAPING CITY RIGHT OF WAY / MOWING                         181\n",
       "TREE LEANING                                                   142\n",
       "BEE AND WASP CONTROL                                            71\n",
       "TREE PEST CONTROL                                               65\n",
       "BARRICADE ON PUBLIC RIGHT OF WAY REMOVAL                        34\n",
       "CANAL CLEANING                                                  34\n",
       "STREET CROSSWALK                                                25\n",
       "TREE BRACING REMOVAL / REPAIR                                   15\n",
       "TREE FELL ON HOUSE                                              14\n",
       "TREE PLANTING TRACKER                                            8\n",
       "Name: count, dtype: int64"
      ]
     },
     "execution_count": 6,
     "metadata": {},
     "output_type": "execute_result"
    }
   ],
   "source": [
    "df_rnpw = df.loc[df['case_owner'] == 'Resilience & Public Works']\n",
    "df_rnpw['issue_Description'].value_counts()"
   ]
  },
  {
   "cell_type": "code",
   "execution_count": 7,
   "metadata": {},
   "outputs": [
    {
     "data": {
      "text/plain": [
       "ticket_created_date_time\n",
       "2021-06-14      1\n",
       "2022-04-20      1\n",
       "2022-12-09      1\n",
       "2022-04-21      1\n",
       "2021-04-15      1\n",
       "             ... \n",
       "2022-09-29     73\n",
       "2022-08-30     74\n",
       "2020-11-09     79\n",
       "2022-09-27     81\n",
       "2022-06-04    134\n",
       "Name: count, Length: 598, dtype: int64"
      ]
     },
     "execution_count": 7,
     "metadata": {},
     "output_type": "execute_result"
    }
   ],
   "source": [
    "pd.options.display.max_columns = 30\n",
    "df['ticket_created_date_time'] = df['ticket_created_date_time'].apply(lambda val: val.split(' ')[0].replace('/', '-'))\n",
    "df.loc[df['issue_Description'] == 'STORM FLOOD/ DRAINAGE'].groupby('ticket_created_date_time')['ticket_created_date_time'].value_counts().sort_values()\n"
   ]
  },
  {
   "attachments": {},
   "cell_type": "markdown",
   "metadata": {},
   "source": [
    "Merge datasets (for now I have only one zip code in weather, but ideally I can join on date and zip code, which will give me more accurate correlation)"
   ]
  },
  {
   "cell_type": "code",
   "execution_count": 8,
   "metadata": {},
   "outputs": [],
   "source": [
    "df_weather = pd.read_csv('./virtual_crossing.csv')\n",
    "df = df.join(df_weather.set_index('datetime'), on='ticket_created_date_time')\n"
   ]
  },
  {
   "attachments": {},
   "cell_type": "markdown",
   "metadata": {},
   "source": [
    "Add geohash"
   ]
  },
  {
   "cell_type": "code",
   "execution_count": 9,
   "metadata": {},
   "outputs": [],
   "source": [
    "import pygeohash as gh\n",
    "df['geohash6']=df.apply(lambda x: gh.encode(x.X, x.Y, precision=6), axis=1)\n",
    "df['geohash7']=df.apply(lambda x: gh.encode(x.X, x.Y, precision=7), axis=1)"
   ]
  },
  {
   "cell_type": "code",
   "execution_count": 10,
   "metadata": {},
   "outputs": [
    {
     "data": {
      "text/plain": [
       "ticket_created_date_time  geohash6\n",
       "2020-10-01                h9dr3x       1\n",
       "2022-06-10                h9dr3x       1\n",
       "2022-06-11                h9dr3z       1\n",
       "                          h9dpp3       1\n",
       "2022-06-13                h9drd4       1\n",
       "                                      ..\n",
       "2022-09-01                h9dre4      16\n",
       "2022-06-09                h9dr3z      17\n",
       "2023-02-02                h9dre4      17\n",
       "2023-01-20                h9drez      20\n",
       "2021-11-08                h9drgg      20\n",
       "Name: count, Length: 2862, dtype: int64"
      ]
     },
     "execution_count": 10,
     "metadata": {},
     "output_type": "execute_result"
    }
   ],
   "source": [
    "df.loc[df['issue_Description'] == 'STORM FLOOD/ DRAINAGE'].groupby('ticket_created_date_time')['geohash6'].value_counts().sort_values()"
   ]
  },
  {
   "attachments": {},
   "cell_type": "markdown",
   "metadata": {},
   "source": [
    "Export dataset for training"
   ]
  },
  {
   "cell_type": "code",
   "execution_count": 11,
   "metadata": {},
   "outputs": [],
   "source": [
    "# df.groupby()\n",
    "s_date_geo_count = df.groupby('ticket_created_date_time')['geohash6'].value_counts()\n",
    "df = df.set_index(['geohash6', 'ticket_created_date_time']).join(s_date_geo_count)\n"
   ]
  },
  {
   "cell_type": "code",
   "execution_count": 12,
   "metadata": {},
   "outputs": [
    {
     "data": {
      "text/plain": [
       "(2862, 64)"
      ]
     },
     "execution_count": 12,
     "metadata": {},
     "output_type": "execute_result"
    }
   ],
   "source": [
    "df = df.reset_index()\n",
    "df = df.loc[df['issue_Description'] == 'STORM FLOOD/ DRAINAGE']\n",
    "df = df.drop_duplicates(subset=['geohash6', 'ticket_created_date_time'])\n",
    "\n",
    "df.sample(frac=1, random_state=42)\n",
    "df_train = df[['geohash6', 'temp', 'precip', 'precipcover', 'count']]\n",
    "df_training = df_train.head(1700)\n",
    "df_tail = df_train.tail(1162)\n",
    "df_validation = df_tail.head(600)\n",
    "df_test = df_tail.tail(562)\n",
    "# df_training.to_csv('./training_data.csv')\n",
    "# df_validation.to_csv('./validation_data.csv')\n",
    "# df_test.to_csv('./test_data.csv')\n",
    "df.to_csv('./data.csv')\n",
    "df.shape"
   ]
  },
  {
   "cell_type": "code",
   "execution_count": 13,
   "metadata": {},
   "outputs": [],
   "source": [
    "# df.loc[df['issue_Description'] == 'STORM FLOOD/ DRAINAGE'].zip_code.value_counts()"
   ]
  }
 ],
 "metadata": {
  "kernelspec": {
   "display_name": "Python 3",
   "language": "python",
   "name": "python3"
  },
  "language_info": {
   "codemirror_mode": {
    "name": "ipython",
    "version": 3
   },
   "file_extension": ".py",
   "mimetype": "text/x-python",
   "name": "python",
   "nbconvert_exporter": "python",
   "pygments_lexer": "ipython3",
   "version": "3.11.2"
  },
  "orig_nbformat": 4
 },
 "nbformat": 4,
 "nbformat_minor": 2
}
