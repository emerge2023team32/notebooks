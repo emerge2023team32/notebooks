{
 "cells": [
  {
   "cell_type": "code",
   "execution_count": 12,
   "metadata": {},
   "outputs": [
    {
     "name": "stderr",
     "output_type": "stream",
     "text": [
      "/var/folders/zq/v144vk5s1ljcq06cqw2837cm0000gn/T/ipykernel_90652/4226757644.py:4: DtypeWarning: Columns (5,6,7,8,9,10,11,15,16,17,22,23,27,28,43,62,63) have mixed types. Specify dtype option on import or set low_memory=False.\n",
      "  df = pd.read_csv('./data.csv', sep=';')\n"
     ]
    }
   ],
   "source": [
    "import pandas as pd\n",
    "import pygeohash as gh\n",
    "\n",
    "df = pd.read_csv('./data.csv', sep=';')\n",
    "\n",
    "df['longitude'] = df['geohash6'].transform(lambda row: gh.decode(row)[0])\n",
    "df['latitude'] = df['geohash6'].transform(lambda row: gh.decode(row)[1])\n",
    "\n",
    "\n",
    "df.to_csv('./data_fixed.csv')"
   ]
  }
 ],
 "metadata": {
  "kernelspec": {
   "display_name": "ironhack-37nGQsB8-py3.11",
   "language": "python",
   "name": "python3"
  },
  "language_info": {
   "codemirror_mode": {
    "name": "ipython",
    "version": 3
   },
   "file_extension": ".py",
   "mimetype": "text/x-python",
   "name": "python",
   "nbconvert_exporter": "python",
   "pygments_lexer": "ipython3",
   "version": "3.11.2"
  },
  "orig_nbformat": 4
 },
 "nbformat": 4,
 "nbformat_minor": 2
}
